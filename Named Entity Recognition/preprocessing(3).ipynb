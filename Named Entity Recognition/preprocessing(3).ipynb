{
 "cells": [
  {
   "cell_type": "code",
   "execution_count": 20,
   "metadata": {},
   "outputs": [],
   "source": [
    "import pandas as pd\n",
    "import numpy as np\n",
    "import random, os, re\n",
    "from opencc import OpenCC"
   ]
  },
  {
   "cell_type": "code",
   "execution_count": 21,
   "metadata": {},
   "outputs": [],
   "source": [
    "#file_path='./SampleData_deid.txt'\n",
    "file_path='./train200.txt'"
   ]
  },
  {
   "cell_type": "code",
   "execution_count": 22,
   "metadata": {},
   "outputs": [],
   "source": [
    "with open(file_path, 'r', encoding='utf8') as f:\n",
    "    df=f.read().encode('utf-8').decode('utf-8-sig')"
   ]
  },
  {
   "cell_type": "code",
   "execution_count": 23,
   "metadata": {},
   "outputs": [],
   "source": [
    "split = df.split('\\n\\n--------------------\\n\\n')[:-1]"
   ]
  },
  {
   "cell_type": "code",
   "execution_count": 24,
   "metadata": {},
   "outputs": [],
   "source": [
    "def strQ2B(s):\n",
    "    \"\"\"把字串全形轉半形\"\"\"\n",
    "    rstring = \"\"\n",
    "    for uchar in s:\n",
    "        u_code = ord(uchar)\n",
    "        if u_code == 12288:  # 全形空格直接轉換\n",
    "            u_code = 32\n",
    "        elif 65281 <= u_code <= 65374:  # 全形字元（除空格）根據關係轉化\n",
    "            u_code -= 65248\n",
    "        rstring += chr(u_code)\n",
    "    return rstring"
   ]
  },
  {
   "cell_type": "code",
   "execution_count": 25,
   "metadata": {},
   "outputs": [],
   "source": [
    "df_split = []\n",
    "for i in split:\n",
    "    df_split.append(strQ2B(i))"
   ]
  },
  {
   "cell_type": "code",
   "execution_count": 26,
   "metadata": {},
   "outputs": [
    {
     "name": "stdout",
     "output_type": "stream",
     "text": [
      "200\n"
     ]
    }
   ],
   "source": [
    "ar_count = len(df_split)\n",
    "print(ar_count)"
   ]
  },
  {
   "cell_type": "code",
   "execution_count": 27,
   "metadata": {},
   "outputs": [
    {
     "name": "stdout",
     "output_type": "stream",
     "text": [
      "[4211, 2652, 1689, 1229, 767, 567, 3101, 1790, 1134, 2213, 710, 3503, 1933, 1229, 1340, 1645, 3639, 1204, 2051, 2603, 1282, 1809, 3463, 1633, 1702, 1597, 3369, 4294, 1588, 1495, 3755, 1142, 2970, 1760, 956, 2459, 5276, 882, 2030, 1871, 1596, 1590, 1163, 2976, 1738, 2453, 2099, 1607, 3458, 1215, 2609, 1718, 581, 1047, 1694, 1227, 2519, 2168, 2360, 1182, 1090, 1384, 1375, 1000, 1659, 1198, 661, 1083, 2404, 1686, 1074, 3081, 3689, 1287, 984, 633, 1331, 2348, 1268, 4079, 2430, 1375, 1816, 2075, 2274, 2747, 954, 1157, 1077, 1777, 1764, 1094, 1847, 2075, 4830, 1752, 3233, 2184, 1481, 3335, 2024, 1512, 3159, 3286, 3490, 2678, 1520, 2278, 2824, 1791, 1685, 1399, 7309, 1642, 4065, 5638, 2861, 2615, 3929, 1357, 1345, 2214, 1169, 1039, 4435, 699, 1745, 1259, 3300, 1866, 1352, 977, 2156, 637, 823, 2228, 2191, 1745, 936, 1184, 380, 1678, 1790, 2665, 2509, 1380, 979, 2925, 1466, 3395, 575, 695, 1233, 1901, 7654, 2549, 1728, 1115, 1172, 2882, 739, 3230, 3248, 2011, 4635, 1311, 1595, 1448, 4396, 1326, 2345, 2675, 3731, 2613, 2076, 2402, 2181, 2393, 1550, 3758, 2101, 2690, 3284, 2086, 846, 2882, 2731, 1827, 2622, 1840, 1759, 2130, 912, 2829, 992, 1988, 1394, 1522, 1185, 1080]\n"
     ]
    }
   ],
   "source": [
    "ar_len = []\n",
    "for i in range(ar_count):\n",
    "    aa = df_split[i].split('\\narticle_id')[-2]\n",
    "#    aa = aa.replace(' ','')\n",
    "    ar_len.append(len(aa))\n",
    "print(ar_len)"
   ]
  },
  {
   "cell_type": "code",
   "execution_count": 28,
   "metadata": {},
   "outputs": [
    {
     "name": "stdout",
     "output_type": "stream",
     "text": [
      "415729\n"
     ]
    }
   ],
   "source": [
    "ct = []\n",
    "for i in range(len(ar_len)):\n",
    "    ct.extend(np.repeat(i, ar_len[i], axis=0))\n",
    "    ct.append(\" \")\n",
    "Doc_ID = ct[:-1]  \n",
    "print(len(Doc_ID))"
   ]
  },
  {
   "cell_type": "code",
   "execution_count": 29,
   "metadata": {},
   "outputs": [],
   "source": [
    "\n",
    "    aa = df_split[1].replace('醫師:', 'OXOX醫師:')\n",
    "    aa = aa.replace('個管師：', 'OXOX個管師:')\n",
    "    aa = aa.replace('民眾:', 'OXOX民眾:')\n",
    "    aa = aa.replace('家屬:', 'OXOX家屬:')\n",
    "    aa = aa.replace('嗯,你現實的問題就是在這裡阿', 'OXOX嗯,你現實的問題就是在這裡阿') #112-199\n",
    "    aa = aa.replace('對啊就像剛剛也有講啊就是', 'OXOX對啊就像剛剛也有講啊就是')        #170-53\n",
    "    bb = aa.split('\\narticle_id')[-2]\n",
    "    \n",
    "#    bb = bb.replace(' ', '')\n",
    "    if bb.split('OXOX')[0]=='':\n",
    "        cc = bb.split('OXOX')[1:]\n",
    "    else:\n",
    "        cc = bb.split('OXOX')\n",
    "        \n",
    "    ccc = []\n",
    "    ccc.append(cc[0])\n",
    "    for i in range(1, len(cc)):\n",
    "        if len(cc[i])<=10:\n",
    "            ccc[len(ccc)-1] = ccc[len(ccc)-1] + cc[i]\n",
    "        else:\n",
    "            ccc.append(cc[i])\n",
    "\n",
    "    \n"
   ]
  },
  {
   "cell_type": "code",
   "execution_count": 30,
   "metadata": {},
   "outputs": [
    {
     "name": "stdout",
     "output_type": "stream",
     "text": [
      "[4211, 2652, 1689, 1229, 767, 567, 3101, 1790, 1134, 2213, 710, 3503, 1933, 1229, 1340, 1645, 3639, 1204, 2051, 2603, 1282, 1809, 3463, 1633, 1702, 1597, 3369, 4294, 1588, 1495, 3755, 1142, 2970, 1760, 956, 2459, 5276, 882, 2030, 1871, 1596, 1590, 1163, 2976, 1738, 2453, 2099, 1607, 3458, 1215, 2609, 1718, 581, 1047, 1694, 1227, 2519, 2168, 2360, 1182, 1090, 1384, 1375, 1000, 1659, 1198, 661, 1083, 2404, 1686, 1074, 3081, 3689, 1287, 984, 633, 1331, 2348, 1268, 4079, 2430, 1375, 1816, 2075, 2274, 2747, 954, 1157, 1077, 1777, 1764, 1094, 1847, 2075, 4830, 1752, 3233, 2184, 1481, 3335, 2024, 1512, 3159, 3286, 3490, 2678, 1520, 2278, 2824, 1791, 1685, 1399, 7309, 1642, 4065, 5638, 2861, 2615, 3929, 1357, 1345, 2214, 1169, 1039, 4435, 699, 1745, 1259, 3300, 1866, 1352, 977, 2156, 637, 823, 2228, 2191, 1745, 936, 1184, 380, 1678, 1790, 2665, 2509, 1380, 979, 2925, 1466, 3395, 575, 695, 1233, 1901, 7654, 2549, 1728, 1115, 1172, 2882, 739, 3230, 3248, 2011, 4635, 1311, 1595, 1448, 4396, 1326, 2345, 2675, 3731, 2613, 2076, 2402, 2181, 2393, 1550, 3758, 2101, 2690, 3284, 2086, 846, 2882, 2731, 1827, 2622, 1840, 1759, 2130, 912, 2829, 992, 1988, 1394, 1522, 1185, 1080]\n"
     ]
    }
   ],
   "source": [
    "tt = []\n",
    "for i in range(ar_count):\n",
    "    aa = df_split[i].replace('醫師:', 'OXOX醫師:')\n",
    "    aa = aa.replace('個管師：', 'OXOX個管師:')\n",
    "    aa = aa.replace('民眾:', 'OXOX民眾:')\n",
    "    aa = aa.replace('家屬:', 'OXOX家屬:')\n",
    "    aa = aa.replace('嗯,你現實的問題就是在這裡阿', 'OXOX嗯,你現實的問題就是在這裡阿') #112-199\n",
    "    aa = aa.replace('對啊就像剛剛也有講啊就是', 'OXOX對啊就像剛剛也有講啊就是')        #170-53\n",
    "    bb = aa.split('\\narticle_id')[-2]\n",
    "    \n",
    "#    bb = bb.replace(' ', '')\n",
    "    if bb.split('OXOX')[0]=='':\n",
    "        cc = bb.split('OXOX')[1:]\n",
    "    else:\n",
    "        cc = bb.split('OXOX')\n",
    "    \n",
    "    ccc = []\n",
    "    ccc.append(cc[0])\n",
    "    for i in range(1, len(cc)):\n",
    "        if len(cc[i])<=10:\n",
    "            ccc[len(ccc)-1] = ccc[len(ccc)-1] + cc[i]\n",
    "        else:\n",
    "            ccc.append(cc[i])\n",
    "    \n",
    "\n",
    "    count = []\n",
    "    for j in range(len(ccc)):\n",
    "        count.append(len('@'.join(ccc[j]).split('@')))\n",
    "    #print(count)\n",
    "    #print('-'*130)\n",
    "    tt.append(sum(count))\n",
    "print(tt)"
   ]
  },
  {
   "cell_type": "code",
   "execution_count": 31,
   "metadata": {},
   "outputs": [],
   "source": [
    "def getsort(data):\n",
    "    arc_num = []\n",
    "    for i in data:\n",
    "        aa = i.replace('醫師:', 'OXOX醫師:')\n",
    "        aa = aa.replace('個管師:', 'OXOX個管師:')\n",
    "        aa = aa.replace('民眾:', 'OXOX民眾:')\n",
    "        aa = aa.replace('家屬:', 'OXOX家屬:')\n",
    "        aa = aa.replace('嗯,你現實的問題就是在這裡阿', 'OXOX嗯,你現實的問題就是在這裡阿')\n",
    "        aa = aa.replace('對啊就像剛剛也有講啊就是', 'OXOX對啊就像剛剛也有講啊就是')\n",
    "        \n",
    "        bb = aa.split('\\narticle_id')[-2]\n",
    "#        bb = bb.replace(' ', '')\n",
    "        if bb.split('OXOX')[0]=='':\n",
    "            cc = bb.split('OXOX')[1:]\n",
    "        else:\n",
    "            cc = bb.split('OXOX')\n",
    "            \n",
    "        ccc = []\n",
    "        ccc.append(cc[0])\n",
    "        for i in range(1, len(cc)):\n",
    "            if len(cc[i])<=10:\n",
    "                ccc[len(ccc)-1] = ccc[len(ccc)-1] + cc[i]\n",
    "            else:\n",
    "                ccc.append(cc[i])\n",
    "        \n",
    "        count = []\n",
    "        for j in range(len(ccc)):\n",
    "            if j == len(ccc)-1:\n",
    "                arc_num.extend(np.repeat(j, len('@'.join(ccc[j]).split('@'))))\n",
    "                arc_num.append(' ')\n",
    "            else:\n",
    "                arc_num.extend(np.repeat(j, len('@'.join(ccc[j]).split('@'))))\n",
    "            \n",
    "\n",
    "    return(arc_num[:-1])"
   ]
  },
  {
   "cell_type": "code",
   "execution_count": 32,
   "metadata": {},
   "outputs": [
    {
     "name": "stdout",
     "output_type": "stream",
     "text": [
      "415729\n"
     ]
    }
   ],
   "source": [
    "### 標記第幾個字在哪一句\n",
    "Send_ID = getsort(df_split)\n",
    "print(len(Send_ID))"
   ]
  },
  {
   "cell_type": "code",
   "execution_count": 33,
   "metadata": {},
   "outputs": [],
   "source": [
    "Word = []\n",
    "trans = OpenCC('tw2s')\n",
    "for i in range(ar_count):\n",
    "    dd = df_split[i].split('\\narticle_id')[-2]\n",
    "    aa = re.sub(r'09+\\d{8}', 'XXXXXXXXXX', dd, count=0)\n",
    "    aa = re.sub(r'(\\d).(\\d)', r'\\1%s\\2' %'點', aa, count=0)\n",
    "    aa = re.sub(r'[A-Z]+([0-9]{9})', 'YYYYYYYYYY', aa, count=0)\n",
    "    \n",
    "    aa = aa.replace('0', '零')\n",
    "    aa = aa.replace('1', '一')\n",
    "    aa = aa.replace('2', '二')\n",
    "    aa = aa.replace('3', '三')\n",
    "    aa = aa.replace('4', '四')\n",
    "    aa = aa.replace('5', '五')\n",
    "    aa = aa.replace('6', '六')\n",
    "    aa = aa.replace('7', '七')\n",
    "    aa = aa.replace('8', '八')\n",
    "    aa = aa.replace('9', '九')\n",
    "    aa = aa.replace('周', '週')\n",
    "    aa = aa.replace('﹑', '、')\n",
    "    aa = aa.replace('……', '等等')\n",
    "    aa = aa.replace('⋯⋯', '等等')\n",
    "    aa = aa.replace('…', '等')\n",
    "    aa = aa.replace('⋯', '等')\n",
    "    aa = aa.replace('.', '等')\n",
    "    aa = aa.replace('·', '等')\n",
    "    aa = aa.replace('Line', '賴氏會社')\n",
    "    aa = aa.replace('LINE', '賴氏會社')\n",
    "    aa = aa.replace('line', '賴氏會社')\n",
    "    aa = aa.replace('Google', '股鴿鴿鴿鴿鴿')\n",
    "    aa = aa.replace('ubereats', '外送送送送送送送')\n",
    "    aa = aa.replace('Grindr', '交酉酉酉酉酉')\n",
    "    aa = aa.replace('Hornet', '交酉酉酉酉酉')\n",
    "    aa = aa.replace('tinder', '交酉酉酉酉酉')\n",
    "    aa = aa.replace('FB', '臉書')\n",
    "    aa = aa.replace('H1N1', '棘病病病')\n",
    "    aa = aa.replace('SARS', '棘病病病')\n",
    "    aa = aa.replace('誒', '欸')\n",
    "    aa = aa.replace('痾', '哦')\n",
    "    aa = aa.replace('厠', '廁')\n",
    "    aa = aa.replace('擤', '擤')\n",
    "    aa = aa.replace('Ｃ', 'C')\n",
    "    aa = aa.replace('C', 'c')\n",
    "    aa = aa.replace('K', 'k')\n",
    "    aa = aa.replace('Ｋ', 'K')\n",
    "    aa = aa.replace('聼', '聽')\n",
    "    aa = aa.replace('厰', '廠')\n",
    "    aa = aa.replace('曡', '疊')\n",
    "    aa = aa.replace('嵗', '崴')\n",
    "    aa = aa.replace('搥', '搥')\n",
    "    aa = aa.replace('柺', '拐')\n",
    "    aa = aa.replace('e-mail', '寐寐寐寐寐寐')\n",
    "    aa = aa.replace('E-Mail', '寐寐寐寐寐寐')\n",
    "    aa = aa.replace('E-MAIL', '寐寐寐寐寐寐')\n",
    "    aa = aa.replace('EMAIL', '寐寐寐寐寐')\n",
    "    aa = aa.replace('Email', '寐寐寐寐寐')\n",
    "    aa = aa.replace('email', '寐寐寐寐寐')\n",
    "    aa = aa.replace('MAIL', '寐寐寐寐')\n",
    "    aa = aa.replace('Mail', '寐寐寐寐')\n",
    "    aa = aa.replace('mail', '寐寐寐寐')\n",
    "    aa = trans.convert(aa)\n",
    "    aa = aa.lower()     \n",
    "\n",
    "#    dd = dd.replace(' ', '')\n",
    "    Word.extend('@'.join(aa).split('@'))\n",
    "    Word.append(' ')\n",
    "Word = Word[:-1]"
   ]
  },
  {
   "cell_type": "code",
   "execution_count": 34,
   "metadata": {},
   "outputs": [
    {
     "name": "stdout",
     "output_type": "stream",
     "text": [
      "['医', '师', ':', '啊', '回', '去', '还', '好', '吗', '?', '民', '众', ':', '欸', ',', '还', '是', '虚', '虚', '的']\n",
      "415729\n"
     ]
    }
   ],
   "source": [
    "print(Word[:20])\n",
    "print(len(Word))"
   ]
  },
  {
   "cell_type": "markdown",
   "metadata": {},
   "source": [
    "### Re-write Labeling"
   ]
  },
  {
   "cell_type": "code",
   "execution_count": 35,
   "metadata": {},
   "outputs": [],
   "source": [
    "def loadInputFile(path):\n",
    "    trainingset = list()  # store trainingset [content,content,...]\n",
    "    position = list()  # store position [article_id, start_pos, end_pos, entity_text, entity_type, ...]\n",
    "    mentions = dict()  # store mentions[mention] = Type\n",
    "    with open(file_path, 'r', encoding='utf8') as f:\n",
    "        file_text=f.read().encode('utf-8').decode('utf-8-sig')\n",
    "    datas=file_text.split('\\n\\n--------------------\\n\\n')[:-1]\n",
    "    for data in datas:\n",
    "        data=data.split('\\n')\n",
    "        content=data[0]\n",
    "        trainingset.append(content)\n",
    "        annotations=data[1:]\n",
    "        for annot in annotations[1:]:\n",
    "            annot=annot.split('\\t') #annot= article_id, start_pos, end_pos, entity_text, entity_type\n",
    "            position.extend(annot)\n",
    "            mentions[annot[3]]=annot[4]\n",
    "    \n",
    "    return trainingset, position, mentions"
   ]
  },
  {
   "cell_type": "code",
   "execution_count": 36,
   "metadata": {},
   "outputs": [],
   "source": [
    "trainingset, position, mentions=loadInputFile(file_path)"
   ]
  },
  {
   "cell_type": "code",
   "execution_count": 37,
   "metadata": {},
   "outputs": [
    {
     "name": "stdout",
     "output_type": "stream",
     "text": [
      "415729\n"
     ]
    }
   ],
   "source": [
    "label = []\n",
    "\n",
    "for j in range(len(trainingset)):\n",
    "    \n",
    "    lst = []\n",
    "    for i in range(0, len(position), 5):\n",
    "        if int(position[i])==j:\n",
    "\n",
    "            start_pos = position[i+1]\n",
    "            end_pos = position[i+2]\n",
    "            tag = position[i+4]\n",
    "\n",
    "            if len(lst)==0:\n",
    "                lst.extend(np.repeat('O', int(start_pos)))\n",
    "                if int(end_pos)-int(start_pos) == 1:\n",
    "                    lst.append([('B-'+ tag)])\n",
    "                else:\n",
    "                    lst.extend([('B-'+ tag)])\n",
    "                    lst.extend([('I-'+tag) for i in range(int(end_pos)-int(start_pos)-1)])\n",
    "            else:\n",
    "                num = int(start_pos)-len(lst)\n",
    "                lst.extend(np.repeat('O', num))\n",
    "                if int(end_pos)-int(start_pos) == 1:\n",
    "                    lst.extend([('B-'+ tag)])\n",
    "                else:\n",
    "                    lst.extend([('B-'+ tag)])\n",
    "                    lst.extend([('I-'+tag) for i in range(int(end_pos)-int(start_pos)-1)])\n",
    "    lst.extend(np.repeat('O', len(trainingset[j])-len(lst)))\n",
    "    lst.extend(' ')\n",
    "    label.extend(lst)\n",
    "label = label[:-1]\n",
    "print(len(label))"
   ]
  },
  {
   "cell_type": "code",
   "execution_count": 38,
   "metadata": {},
   "outputs": [
    {
     "data": {
      "text/plain": [
       "[415729, 415729, 415729, 415729]"
      ]
     },
     "execution_count": 38,
     "metadata": {},
     "output_type": "execute_result"
    }
   ],
   "source": [
    "[len(Doc_ID), len(Send_ID), len(Word), len(label)]"
   ]
  },
  {
   "cell_type": "code",
   "execution_count": 39,
   "metadata": {},
   "outputs": [],
   "source": [
    "df_sort = {\n",
    "    \"ID\" : list(range(len(Word))),\n",
    "    \"Doc_ID\" : Doc_ID,\n",
    "    \"Sent_ID\" : Send_ID,\n",
    "    \"Word\" : Word,\n",
    "    \"Tag\" : label\n",
    "}\n",
    "df_output = pd.DataFrame(df_sort)"
   ]
  },
  {
   "cell_type": "code",
   "execution_count": 40,
   "metadata": {},
   "outputs": [
    {
     "data": {
      "text/html": [
       "<div>\n",
       "<style scoped>\n",
       "    .dataframe tbody tr th:only-of-type {\n",
       "        vertical-align: middle;\n",
       "    }\n",
       "\n",
       "    .dataframe tbody tr th {\n",
       "        vertical-align: top;\n",
       "    }\n",
       "\n",
       "    .dataframe thead th {\n",
       "        text-align: right;\n",
       "    }\n",
       "</style>\n",
       "<table border=\"1\" class=\"dataframe\">\n",
       "  <thead>\n",
       "    <tr style=\"text-align: right;\">\n",
       "      <th></th>\n",
       "      <th>ID</th>\n",
       "      <th>Doc_ID</th>\n",
       "      <th>Sent_ID</th>\n",
       "      <th>Word</th>\n",
       "      <th>Tag</th>\n",
       "    </tr>\n",
       "  </thead>\n",
       "  <tbody>\n",
       "    <tr>\n",
       "      <th>2880</th>\n",
       "      <td>2880</td>\n",
       "      <td>0</td>\n",
       "      <td>104</td>\n",
       "      <td>医</td>\n",
       "      <td>O</td>\n",
       "    </tr>\n",
       "    <tr>\n",
       "      <th>2881</th>\n",
       "      <td>2881</td>\n",
       "      <td>0</td>\n",
       "      <td>104</td>\n",
       "      <td>师</td>\n",
       "      <td>O</td>\n",
       "    </tr>\n",
       "    <tr>\n",
       "      <th>2882</th>\n",
       "      <td>2882</td>\n",
       "      <td>0</td>\n",
       "      <td>104</td>\n",
       "      <td>:</td>\n",
       "      <td>O</td>\n",
       "    </tr>\n",
       "    <tr>\n",
       "      <th>2883</th>\n",
       "      <td>2883</td>\n",
       "      <td>0</td>\n",
       "      <td>104</td>\n",
       "      <td>那</td>\n",
       "      <td>O</td>\n",
       "    </tr>\n",
       "    <tr>\n",
       "      <th>2884</th>\n",
       "      <td>2884</td>\n",
       "      <td>0</td>\n",
       "      <td>104</td>\n",
       "      <td>还</td>\n",
       "      <td>O</td>\n",
       "    </tr>\n",
       "    <tr>\n",
       "      <th>2885</th>\n",
       "      <td>2885</td>\n",
       "      <td>0</td>\n",
       "      <td>104</td>\n",
       "      <td>不</td>\n",
       "      <td>O</td>\n",
       "    </tr>\n",
       "  </tbody>\n",
       "</table>\n",
       "</div>"
      ],
      "text/plain": [
       "        ID Doc_ID Sent_ID Word Tag\n",
       "2880  2880      0     104    医   O\n",
       "2881  2881      0     104    师   O\n",
       "2882  2882      0     104    :   O\n",
       "2883  2883      0     104    那   O\n",
       "2884  2884      0     104    还   O\n",
       "2885  2885      0     104    不   O"
      ]
     },
     "execution_count": 40,
     "metadata": {},
     "output_type": "execute_result"
    }
   ],
   "source": [
    "df_output.loc[2880:2885]"
   ]
  },
  {
   "cell_type": "code",
   "execution_count": 41,
   "metadata": {},
   "outputs": [],
   "source": [
    "df_output.to_csv(r'./df200.csv', index=False, header=True, encoding='utf-8-sig')"
   ]
  },
  {
   "cell_type": "code",
   "execution_count": null,
   "metadata": {},
   "outputs": [],
   "source": []
  },
  {
   "cell_type": "markdown",
   "metadata": {},
   "source": [
    "# Test"
   ]
  },
  {
   "cell_type": "code",
   "execution_count": 60,
   "metadata": {},
   "outputs": [],
   "source": [
    "file_path='./test.txt'"
   ]
  },
  {
   "cell_type": "code",
   "execution_count": 61,
   "metadata": {},
   "outputs": [],
   "source": [
    "with open(file_path, 'r', encoding='utf8') as f:\n",
    "    df=f.read().encode('utf-8').decode('utf-8-sig')"
   ]
  },
  {
   "cell_type": "code",
   "execution_count": 62,
   "metadata": {},
   "outputs": [],
   "source": [
    "split = df.split('\\n\\n--------------------\\n\\n')[:-1]"
   ]
  },
  {
   "cell_type": "code",
   "execution_count": 63,
   "metadata": {},
   "outputs": [],
   "source": [
    "df_split = []\n",
    "for i in split:\n",
    "    df_split.append(strQ2B(i))"
   ]
  },
  {
   "cell_type": "code",
   "execution_count": 64,
   "metadata": {},
   "outputs": [
    {
     "name": "stdout",
     "output_type": "stream",
     "text": [
      "159\n"
     ]
    }
   ],
   "source": [
    "ar_count = len(df_split)\n",
    "print(ar_count)"
   ]
  },
  {
   "cell_type": "code",
   "execution_count": 65,
   "metadata": {},
   "outputs": [
    {
     "name": "stdout",
     "output_type": "stream",
     "text": [
      "[507, 1055, 1874, 945, 520, 2386, 2285, 1211, 1159, 3113, 1589, 6551, 300, 1297, 1282, 719, 1126, 740, 1892, 1949, 1302, 929, 782, 2188, 501, 746, 1610, 1230, 1971, 929, 1265, 1945, 1121, 691, 667, 1821, 1137, 531, 787, 1512, 531, 2894, 1554, 1022, 1170, 3297, 405, 1034, 1886, 1432, 2428, 2046, 701, 2400, 1508, 1422, 1481, 817, 1811, 1485, 2238, 1848, 1943, 1315, 1003, 2323, 1090, 3658, 2228, 1062, 2177, 1236, 1370, 1992, 1092, 1687, 3620, 2339, 646, 2680, 1441, 1793, 1678, 4021, 2324, 3233, 623, 832, 2064, 1113, 1542, 1137, 1880, 816, 2447, 1895, 2369, 2650, 1137, 1945, 2261, 571, 929, 655, 539, 925, 708, 3069, 2967, 1537, 1924, 2977, 852, 1893, 2662, 2767, 1325, 1251, 1985, 750, 4069, 1020, 1871, 1208, 519, 998, 761, 725, 950, 2297, 1230, 1219, 1564, 1123, 539, 1496, 894, 2077, 1764, 883, 1932, 2439, 2816, 825, 2408, 1686, 1684, 1831, 1155, 2363, 7577, 1743, 4088, 2786, 2165, 2601, 3300, 3873, 1571]\n"
     ]
    }
   ],
   "source": [
    "ar_len = []\n",
    "for i in range(ar_count):\n",
    "    ar_len.append(len(df_split[i].split('\\n')[1]))\n",
    "print(ar_len)"
   ]
  },
  {
   "cell_type": "code",
   "execution_count": 66,
   "metadata": {},
   "outputs": [
    {
     "name": "stdout",
     "output_type": "stream",
     "text": [
      "270731\n"
     ]
    }
   ],
   "source": [
    "ct = []\n",
    "for i in range(len(ar_len)):\n",
    "    ct.extend(np.repeat(i, ar_len[i], axis=0))\n",
    "    ct.append(\" \")\n",
    "Doc_ID = ct[:-1]  \n",
    "print(len(Doc_ID))"
   ]
  },
  {
   "cell_type": "code",
   "execution_count": 67,
   "metadata": {},
   "outputs": [
    {
     "name": "stdout",
     "output_type": "stream",
     "text": [
      "[507, 1055, 1874, 945, 520, 2386, 2285, 1211, 1159, 3113, 1589, 6551, 300, 1297, 1282, 719, 1126, 740, 1892, 1949, 1302, 929, 782, 2188, 501, 746, 1610, 1230, 1971, 929, 1265, 1945, 1121, 691, 667, 1821, 1137, 531, 787, 1512, 531, 2894, 1554, 1022, 1170, 3297, 405, 1034, 1886, 1432, 2428, 2046, 701, 2400, 1508, 1422, 1481, 817, 1811, 1485, 2238, 1848, 1943, 1315, 1003, 2323, 1090, 3658, 2228, 1062, 2177, 1236, 1370, 1992, 1092, 1687, 3620, 2339, 646, 2680, 1441, 1793, 1678, 4021, 2324, 3233, 623, 832, 2064, 1113, 1542, 1137, 1880, 816, 2447, 1895, 2369, 2650, 1137, 1945, 2261, 571, 929, 655, 539, 925, 708, 3069, 2967, 1537, 1924, 2977, 852, 1893, 2662, 2767, 1325, 1251, 1985, 750, 4069, 1020, 1871, 1208, 519, 998, 761, 725, 950, 2297, 1230, 1219, 1564, 1123, 539, 1496, 894, 2077, 1764, 883, 1932, 2439, 2816, 825, 2408, 1686, 1684, 1831, 1155, 2363, 7577, 1743, 4088, 2786, 2165, 2601, 3300, 3873, 1571]\n"
     ]
    }
   ],
   "source": [
    "tt = []\n",
    "for i in range(ar_count):\n",
    "    aa = df_split[i].replace('醫師:', 'OXOX醫師:')\n",
    "    aa = aa.replace('個管師:', 'OXOX個管師:')\n",
    "    aa = aa.replace('民眾:', 'OXOX民眾:')\n",
    "    aa = aa.replace('家屬:', 'OXOX家屬:')\n",
    "    \n",
    "    bb = aa.split('\\n')[1]\n",
    "    if bb.split('OXOX')[0]=='':\n",
    "        cc = bb.split('OXOX')[1:]\n",
    "    else:\n",
    "        cc = bb.split('OXOX')\n",
    "    \n",
    "    ccc = []\n",
    "    ccc.append(cc[0])\n",
    "    for i in range(1, len(cc)):\n",
    "        if len(cc[i])<=10:\n",
    "            ccc[len(ccc)-1] = ccc[len(ccc)-1] + cc[i]\n",
    "        else:\n",
    "            ccc.append(cc[i])\n",
    "\n",
    "    count = []\n",
    "    for j in range(len(ccc)):\n",
    "        count.append(len('@'.join(ccc[j]).split('@')))\n",
    "    #print(count)\n",
    "    #print('-'*130)\n",
    "    tt.append(sum(count))\n",
    "print(tt)"
   ]
  },
  {
   "cell_type": "code",
   "execution_count": 68,
   "metadata": {},
   "outputs": [],
   "source": [
    "def getsort(data):\n",
    "    arc_num = []\n",
    "    for i in data:\n",
    "        aa = i.replace('醫師:', 'OXOX醫師:')\n",
    "        aa = aa.replace('個管師:', 'OXOX個管師:')\n",
    "        aa = aa.replace('民眾:', 'OXOX民眾:')\n",
    "        aa = aa.replace('家屬:', 'OXOX家屬:')\n",
    "        \n",
    "        bb = aa.split('\\n')[1]\n",
    "        if bb.split('OXOX')[0]=='':\n",
    "            cc = bb.split('OXOX')[1:]\n",
    "        else:\n",
    "            cc = bb.split('OXOX')\n",
    "            \n",
    "        ccc = []\n",
    "        ccc.append(cc[0])\n",
    "        for i in range(1, len(cc)):\n",
    "            if len(cc[i])<=10:\n",
    "                ccc[len(ccc)-1] = ccc[len(ccc)-1] + cc[i]\n",
    "            else:\n",
    "                ccc.append(cc[i])\n",
    "        \n",
    "        count = []\n",
    "        for j in range(len(cc)):\n",
    "            if j == len(cc)-1:\n",
    "                arc_num.extend(np.repeat(j, len('@'.join(cc[j]).split('@'))))\n",
    "                arc_num.append(' ')\n",
    "            else:\n",
    "                arc_num.extend(np.repeat(j, len('@'.join(cc[j]).split('@'))))\n",
    "            \n",
    "\n",
    "    return(arc_num[:-1])"
   ]
  },
  {
   "cell_type": "code",
   "execution_count": 69,
   "metadata": {},
   "outputs": [
    {
     "name": "stdout",
     "output_type": "stream",
     "text": [
      "270731\n"
     ]
    }
   ],
   "source": [
    "### 標記第幾個字在哪一句\n",
    "Send_ID = getsort(df_split)\n",
    "print(len(Send_ID))"
   ]
  },
  {
   "cell_type": "code",
   "execution_count": 70,
   "metadata": {},
   "outputs": [],
   "source": [
    "Word = []\n",
    "trans = OpenCC('tw2s')\n",
    "for i in range(ar_count):\n",
    "    dd = df_split[i].split('\\n')[1]\n",
    "    aa = re.sub(r'09+\\d{8}', 'XXXXXXXXXX', dd, count=0)\n",
    "    aa = re.sub(r'(\\d).(\\d)', r'\\1%s\\2' %'點', aa, count=0)\n",
    "    aa = re.sub(r'[A-Z]+([0-9]{9})', 'YYYYYYYYYY', aa, count=0)\n",
    "    aa = aa.replace('0', '零')\n",
    "    aa = aa.replace('1', '一')\n",
    "    aa = aa.replace('2', '二')\n",
    "    aa = aa.replace('3', '三')\n",
    "    aa = aa.replace('4', '四')\n",
    "    aa = aa.replace('5', '五')\n",
    "    aa = aa.replace('6', '六')\n",
    "    aa = aa.replace('7', '七')\n",
    "    aa = aa.replace('8', '八')\n",
    "    aa = aa.replace('9', '九')\n",
    "    aa = aa.replace('周', '週')\n",
    "    aa = aa.replace('﹑', '、')\n",
    "    aa = aa.replace('……', '等等')\n",
    "    aa = aa.replace('⋯⋯', '等等')\n",
    "    aa = aa.replace('…', '等')\n",
    "    aa = aa.replace('⋯', '等')\n",
    "    aa = aa.replace('.', '等')\n",
    "    aa = aa.replace('·', '等')\n",
    "    aa = aa.replace('Line', '賴氏會社')\n",
    "    aa = aa.replace('LINE', '賴氏會社')\n",
    "    aa = aa.replace('line', '賴氏會社')\n",
    "    aa = aa.replace('Google', '股鴿鴿鴿鴿鴿')\n",
    "    aa = aa.replace('ubereats', '外送送送送送送送')\n",
    "    aa = aa.replace('Grindr', '交酉酉酉酉酉')\n",
    "    aa = aa.replace('Hornet', '交酉酉酉酉酉')\n",
    "    aa = aa.replace('tinder', '交酉酉酉酉酉')\n",
    "    aa = aa.replace('FB', '臉書')\n",
    "    aa = aa.replace('H1N1', '棘病病病')\n",
    "    aa = aa.replace('SARS', '棘病病病')\n",
    "    aa = aa.replace('誒', '欸')\n",
    "    aa = aa.replace('痾', '哦')\n",
    "    aa = aa.replace('厠', '廁')\n",
    "    aa = aa.replace('擤', '擤')\n",
    "    aa = aa.replace('Ｃ', 'C')\n",
    "    aa = aa.replace('C', 'c')\n",
    "    aa = aa.replace('K', 'k')\n",
    "    aa = aa.replace('Ｋ', 'K')\n",
    "    aa = aa.replace('聼', '聽')\n",
    "    aa = aa.replace('厰', '廠')\n",
    "    aa = aa.replace('曡', '疊')\n",
    "    aa = aa.replace('嵗', '崴')\n",
    "    aa = aa.replace('搥', '搥')\n",
    "    aa = aa.replace('柺', '拐')\n",
    "    aa = aa.replace('e-mail', '寐寐寐寐寐寐')\n",
    "    aa = aa.replace('E-Mail', '寐寐寐寐寐寐')\n",
    "    aa = aa.replace('E-MAIL', '寐寐寐寐寐寐')\n",
    "    aa = aa.replace('EMAIL', '寐寐寐寐寐')\n",
    "    aa = aa.replace('Email', '寐寐寐寐寐')\n",
    "    aa = aa.replace('email', '寐寐寐寐寐')\n",
    "    aa = aa.replace('MAIL', '寐寐寐寐')\n",
    "    aa = aa.replace('Mail', '寐寐寐寐')\n",
    "    aa = aa.replace('mail', '寐寐寐寐')\n",
    "    aa = trans.convert(aa)\n",
    "    aa = aa.lower()\n",
    "\n",
    "    Word.extend('@'.join(aa).split('@'))\n",
    "    Word.append(' ')\n",
    "Word = Word[:-1]"
   ]
  },
  {
   "cell_type": "code",
   "execution_count": 71,
   "metadata": {},
   "outputs": [
    {
     "name": "stdout",
     "output_type": "stream",
     "text": [
      "['医', '师', ':', '最', '近', '人', '有', '没', '有', '什', '么', '不', '舒', '服', '?', '民', '众', ':', '没', '有']\n",
      "270731\n"
     ]
    }
   ],
   "source": [
    "print(Word[:20])\n",
    "print(len(Word))"
   ]
  },
  {
   "cell_type": "code",
   "execution_count": 72,
   "metadata": {},
   "outputs": [
    {
     "data": {
      "text/plain": [
       "[270731, 270731, 270731]"
      ]
     },
     "execution_count": 72,
     "metadata": {},
     "output_type": "execute_result"
    }
   ],
   "source": [
    "[len(Doc_ID), len(Send_ID), len(Word)]"
   ]
  },
  {
   "cell_type": "code",
   "execution_count": 73,
   "metadata": {},
   "outputs": [],
   "source": [
    "df_sort = {\n",
    "    \"ID\" : list(range(len(Word))),\n",
    "    \"Doc_ID\" : Doc_ID,\n",
    "    \"Sent_ID\" : Send_ID,\n",
    "    \"Word\" : Word\n",
    "}\n",
    "df_output = pd.DataFrame(df_sort)"
   ]
  },
  {
   "cell_type": "code",
   "execution_count": 74,
   "metadata": {},
   "outputs": [],
   "source": [
    "df_output.to_csv(r'./df_test.csv', index=False, header=True, encoding='utf-8-sig')"
   ]
  },
  {
   "cell_type": "code",
   "execution_count": 75,
   "metadata": {},
   "outputs": [
    {
     "data": {
      "text/plain": [
       "Doc_ID  Sent_ID\n",
       "123     40         340\n",
       "152     24         331\n",
       "148     20         309\n",
       "dtype: int64"
      ]
     },
     "execution_count": 75,
     "metadata": {},
     "output_type": "execute_result"
    }
   ],
   "source": [
    "df_output.groupby(['Doc_ID', 'Sent_ID']).size().nlargest(3)"
   ]
  },
  {
   "cell_type": "code",
   "execution_count": null,
   "metadata": {},
   "outputs": [],
   "source": []
  },
  {
   "cell_type": "code",
   "execution_count": null,
   "metadata": {},
   "outputs": [],
   "source": []
  },
  {
   "cell_type": "code",
   "execution_count": 97,
   "metadata": {},
   "outputs": [],
   "source": [
    "ee = '123456498ssss456cdcacs病歷號碼46541321asdc病歷號碼46'"
   ]
  },
  {
   "cell_type": "code",
   "execution_count": 98,
   "metadata": {},
   "outputs": [
    {
     "data": {
      "text/plain": [
       "2"
      ]
     },
     "execution_count": 98,
     "metadata": {},
     "output_type": "execute_result"
    }
   ],
   "source": [
    "len(re.findall(r'病歷號碼(\\d*)', ee))"
   ]
  },
  {
   "cell_type": "code",
   "execution_count": 99,
   "metadata": {},
   "outputs": [
    {
     "data": {
      "text/plain": [
       "['123456498ssss456cdcacs病歷號碼ZZZZZZZZasdc病歷號碼46',\n",
       " '123456498ssss456cdcacs病歷號碼ZZ541321asdc病歷號碼ZZ']"
      ]
     },
     "execution_count": 99,
     "metadata": {},
     "output_type": "execute_result"
    }
   ],
   "source": [
    "[ee.replace(re.findall(r'病歷號碼(\\d*)', ee)[i], 'Z'*len(re.findall(r'病歷號碼(\\d*)', ee)[i])) for i in range(len(re.findall(r'病歷號碼(\\d*)', ee)))]"
   ]
  },
  {
   "cell_type": "code",
   "execution_count": 100,
   "metadata": {},
   "outputs": [],
   "source": [
    "for i in range(len(re.findall(r'病歷號碼(\\d*)', ee))):\n",
    "    if i==0:\n",
    "        eee = ee\n",
    "    \n",
    "    eee = eee.replace(re.findall(r'病歷號碼(\\d*)', ee)[i], 'Z'*len(re.findall(r'病歷號碼(\\d*)', ee)[i]))\n"
   ]
  },
  {
   "cell_type": "code",
   "execution_count": 101,
   "metadata": {},
   "outputs": [
    {
     "data": {
      "text/plain": [
       "'123456498ssss456cdcacs病歷號碼ZZZZZZZZasdc病歷號碼ZZ'"
      ]
     },
     "execution_count": 101,
     "metadata": {},
     "output_type": "execute_result"
    }
   ],
   "source": [
    "eee"
   ]
  },
  {
   "cell_type": "code",
   "execution_count": null,
   "metadata": {},
   "outputs": [],
   "source": []
  }
 ],
 "metadata": {
  "kernelspec": {
   "display_name": "Python 3",
   "language": "python",
   "name": "python3"
  },
  "language_info": {
   "codemirror_mode": {
    "name": "ipython",
    "version": 3
   },
   "file_extension": ".py",
   "mimetype": "text/x-python",
   "name": "python",
   "nbconvert_exporter": "python",
   "pygments_lexer": "ipython3",
   "version": "3.6.10"
  }
 },
 "nbformat": 4,
 "nbformat_minor": 4
}
